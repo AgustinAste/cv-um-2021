{
  "nbformat": 4,
  "nbformat_minor": 0,
  "metadata": {
    "colab": {
      "name": "Copy of git.ipynb",
      "provenance": [],
      "authorship_tag": "ABX9TyOhvjLksoYf9Z2w0WIlzQuc",
      "include_colab_link": true
    },
    "kernelspec": {
      "name": "python3",
      "display_name": "Python 3"
    }
  },
  "cells": [
    {
      "cell_type": "markdown",
      "metadata": {
        "id": "view-in-github",
        "colab_type": "text"
      },
      "source": [
        "<a href=\"https://colab.research.google.com/github/nicolasrondan/cv-um-2021/blob/main/git.ipynb\" target=\"_parent\"><img src=\"https://colab.research.google.com/assets/colab-badge.svg\" alt=\"Open In Colab\"/></a>"
      ]
    },
    {
      "cell_type": "code",
      "metadata": {
        "colab": {
          "base_uri": "https://localhost:8080/"
        },
        "id": "wCQBqofPqFRX",
        "outputId": "35c319cc-9d22-4525-a106-ebd7fcbbbc7b"
      },
      "source": [
        "from google.colab import drive\n",
        "drive.mount('/content/drive')"
      ],
      "execution_count": 1,
      "outputs": [
        {
          "output_type": "stream",
          "text": [
            "Mounted at /content/drive\n"
          ],
          "name": "stdout"
        }
      ]
    },
    {
      "cell_type": "code",
      "metadata": {
        "colab": {
          "base_uri": "https://localhost:8080/"
        },
        "id": "vecZeAZWq87T",
        "outputId": "18680130-4af6-4b59-dcf9-65ec430059c2"
      },
      "source": [
        "%cd /content/drive/MyDrive/"
      ],
      "execution_count": 2,
      "outputs": [
        {
          "output_type": "stream",
          "text": [
            "/content/drive/MyDrive\n"
          ],
          "name": "stdout"
        }
      ]
    },
    {
      "cell_type": "code",
      "metadata": {
        "id": "Pi7Yivkyrs1-"
      },
      "source": [
        "import os\n",
        "os.makedirs('computer-vision-um/',exist_ok=True)"
      ],
      "execution_count": 3,
      "outputs": []
    },
    {
      "cell_type": "code",
      "metadata": {
        "id": "-qB4pAJLPZ3V",
        "colab": {
          "base_uri": "https://localhost:8080/"
        },
        "outputId": "583dd9b1-fd05-4e42-f9de-f8ea00abf347"
      },
      "source": [
        "%cd /content/drive/MyDrive/computer-vision-um/\n"
      ],
      "execution_count": 4,
      "outputs": [
        {
          "output_type": "stream",
          "text": [
            "/content/drive/MyDrive/computer-vision-um\n"
          ],
          "name": "stdout"
        }
      ]
    },
    {
      "cell_type": "code",
      "metadata": {
        "colab": {
          "base_uri": "https://localhost:8080/"
        },
        "id": "3vWNj2JKoG2C",
        "outputId": "80ea9402-ce6f-4607-88e7-6b8cea6a281d"
      },
      "source": [
        "!git clone https://github.com/nicolasrondan/cv-um-2021.git"
      ],
      "execution_count": 5,
      "outputs": [
        {
          "output_type": "stream",
          "text": [
            "fatal: destination path 'cv-um-2021' already exists and is not an empty directory.\n"
          ],
          "name": "stdout"
        }
      ]
    },
    {
      "cell_type": "code",
      "metadata": {
        "colab": {
          "base_uri": "https://localhost:8080/"
        },
        "id": "9-Ps_iYCN_q2",
        "outputId": "5d15bad4-03b9-4416-b68a-5fde23a6b072"
      },
      "source": [
        "%cd /content/drive/MyDrive/computer-vision-um/cv-um-2021\n"
      ],
      "execution_count": 6,
      "outputs": [
        {
          "output_type": "stream",
          "text": [
            "/content/drive/MyDrive/computer-vision-um/cv-um-2021\n"
          ],
          "name": "stdout"
        }
      ]
    },
    {
      "cell_type": "code",
      "metadata": {
        "colab": {
          "base_uri": "https://localhost:8080/"
        },
        "id": "c9gpS9NpPcZa",
        "outputId": "101cc0c8-eba1-4cd6-c386-bc6e2484381f"
      },
      "source": [
        "! git pull"
      ],
      "execution_count": 7,
      "outputs": [
        {
          "output_type": "stream",
          "text": [
            "remote: Enumerating objects: 14, done.\u001b[K\n",
            "remote: Counting objects:   7% (1/14)\u001b[K\rremote: Counting objects:  14% (2/14)\u001b[K\rremote: Counting objects:  21% (3/14)\u001b[K\rremote: Counting objects:  28% (4/14)\u001b[K\rremote: Counting objects:  35% (5/14)\u001b[K\rremote: Counting objects:  42% (6/14)\u001b[K\rremote: Counting objects:  50% (7/14)\u001b[K\rremote: Counting objects:  57% (8/14)\u001b[K\rremote: Counting objects:  64% (9/14)\u001b[K\rremote: Counting objects:  71% (10/14)\u001b[K\rremote: Counting objects:  78% (11/14)\u001b[K\rremote: Counting objects:  85% (12/14)\u001b[K\rremote: Counting objects:  92% (13/14)\u001b[K\rremote: Counting objects: 100% (14/14)\u001b[K\rremote: Counting objects: 100% (14/14), done.\u001b[K\n",
            "remote: Compressing objects: 100% (10/10), done.\u001b[K\n",
            "remote: Total 12 (delta 2), reused 8 (delta 1), pack-reused 0\u001b[K\n",
            "Unpacking objects: 100% (12/12), done.\n",
            "From https://github.com/nicolasrondan/cv-um-2021\n",
            "   1c5358e..0dc874f  main       -> origin/main\n",
            "Updating 1c5358e..0dc874f\n",
            "Fast-forward\n",
            " ..._2_Filtros_y_Deteccio\\314\\201n_de_Bordes.ipynb\" | 996 \u001b[32m+++++++++++++++++++++\u001b[m\n",
            " practico-3/images/kittya.jpg                       | Bin \u001b[31m0\u001b[m -> \u001b[32m8300\u001b[m bytes\n",
            " practico-3/images/part1.jpg                        | Bin \u001b[31m0\u001b[m -> \u001b[32m948494\u001b[m bytes\n",
            " practico-3/images/part3_1.JPG                      | Bin \u001b[31m0\u001b[m -> \u001b[32m191463\u001b[m bytes\n",
            " practico-3/images/part3_2.JPG                      | Bin \u001b[31m0\u001b[m -> \u001b[32m189757\u001b[m bytes\n",
            " 5 files changed, 996 insertions(+)\n",
            " create mode 100644 \"practico-2/Practico_2_Filtros_y_Deteccio\\314\\201n_de_Bordes.ipynb\"\n",
            " create mode 100644 practico-3/images/kittya.jpg\n",
            " create mode 100644 practico-3/images/part1.jpg\n",
            " create mode 100644 practico-3/images/part3_1.JPG\n",
            " create mode 100644 practico-3/images/part3_2.JPG\n"
          ],
          "name": "stdout"
        }
      ]
    },
    {
      "cell_type": "code",
      "metadata": {
        "id": "4mwnkFWzPgCi"
      },
      "source": [
        ""
      ],
      "execution_count": null,
      "outputs": []
    }
  ]
}